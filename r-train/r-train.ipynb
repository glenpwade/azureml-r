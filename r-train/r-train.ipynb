{
  "cells": [
    {
      "cell_type": "code",
      "source": [
        "##  CREATE A TRAINING JOB - USING R ##\r\n",
        "\r\n",
        "# Instructions:\r\n",
        "# 1. Open a TERMINAL WINDOW\r\n",
        "# 2. Execute the following commands in the Terminal:\r\n",
        "cd r-train-azureml\r\n",
        "az login --identity\r\n",
        "\r\n",
        "# You can enable auto-upgrade with 'az config set auto-upgrade.enable=yes', else just run manually:\r\n",
        "az upgrade\r\n",
        "\r\n",
        "# If you have access to multiple subscriptions, then best to be specific:\r\n",
        "az account set --subscription \"968d7e19-cd97-44d8-ace7-b8a31a2f8355\"\r\n",
        "\r\n",
        "# If your Dev machine (compute instance) is in your ML Workspace, then you can use Env.Variables\r\n",
        "az ml job create -f job.yml  --workspace-name $CI_WORKSPACE --resource-group $CI_RESOURCE_GROUP\r\n",
        "\r\n",
        "# If not, you'll need to explicitly name the workspace & resource group (not bad practice)\r\n",
        "az ml job create -f job.yml  --workspace-name \"ws-azure-ml-rstudio\" --resource-group \"rg-demo\""
      ],
      "outputs": [],
      "execution_count": null,
      "metadata": {
        "jupyter": {
          "source_hidden": false,
          "outputs_hidden": true
        },
        "nteract": {
          "transient": {
            "deleting": false
          }
        },
        "gather": {
          "logged": 1681210005539
        }
      }
    },
    {
      "cell_type": "code",
      "source": [],
      "outputs": [],
      "execution_count": null,
      "metadata": {
        "jupyter": {
          "source_hidden": false,
          "outputs_hidden": false
        },
        "nteract": {
          "transient": {
            "deleting": false
          }
        }
      }
    }
  ],
  "metadata": {
    "kernelspec": {
      "name": "ir",
      "language": "R",
      "display_name": "R"
    },
    "language_info": {
      "name": "R",
      "codemirror_mode": "r",
      "pygments_lexer": "r",
      "mimetype": "text/x-r-source",
      "file_extension": ".r",
      "version": "4.2.2"
    },
    "microsoft": {
      "ms_spell_check": {
        "ms_spell_check_language": "en"
      },
      "host": {
        "AzureML": {
          "notebookHasBeenCompleted": true
        }
      }
    },
    "nteract": {
      "version": "nteract-front-end@1.0.0"
    },
    "kernel_info": {
      "name": "ir"
    }
  },
  "nbformat": 4,
  "nbformat_minor": 2
}